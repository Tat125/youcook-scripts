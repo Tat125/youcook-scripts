{
 "cells": [
  {
   "cell_type": "code",
   "execution_count": 2,
   "metadata": {},
   "outputs": [],
   "source": [
    "# -*- coding: utf-8 -*-\n",
    "#import modules\n",
    "import cv2\n",
    "import os\n",
    "import os.path\n",
    "import json\n",
    "from statistics import mean"
   ]
  },
  {
   "cell_type": "code",
   "execution_count": 3,
   "metadata": {},
   "outputs": [],
   "source": [
    "#define valuables & lists\n",
    "ImgPerSeg = 1\n",
    "annotation = '../annotations/youcookii_annotations_trainval.json'\n",
    "video_names = []\n",
    "segments = {}\n",
    "subsets = {'training':{},'validation':{},'testing':{}}\n",
    "segments_num = {}"
   ]
  },
  {
   "cell_type": "code",
   "execution_count": 4,
   "metadata": {},
   "outputs": [
    {
     "name": "stdout",
     "output_type": "stream",
     "text": [
      "dict_keys(['duration', 'subset', 'recipe_type', 'annotations', 'video_url'])\n",
      "dict_keys(['segment', 'id', 'sentence'])\n",
      "[90, 102]\n",
      "[48, 58, 63, 87, 94, 98]\n"
     ]
    }
   ],
   "source": [
    "# read annotation file\n",
    "\n",
    "# load json file\n",
    "with open(annotation) as data_file:    \n",
    "    data = json.load(data_file)\n",
    "    \n",
    "# save names of videos\n",
    "for i in data['database'].keys():\n",
    "    video_names.append(i)\n",
    "\n",
    "# save dulation of annoted segments of each videos\n",
    "print(data['database'][video_names[0]].keys())\n",
    "print(data['database'][video_names[0]]['annotations'][0].keys())\n",
    "print(data['database'][video_names[0]]['annotations'][0]['segment'])\n",
    "\n",
    "\n",
    "for name in video_names:\n",
    "    subset = data['database'][name]['subset']\n",
    "    recipe_type = data['database'][name][\"recipe_type\"]\n",
    "    annotations = data['database'][name]['annotations']\n",
    "    try:\n",
    "        subsets[subset][recipe_type][name] = []\n",
    "    except:\n",
    "        subsets[subset][recipe_type]= {}\n",
    "        subsets[subset][recipe_type][name] = []\n",
    "   \n",
    "\n",
    "    for i in annotations:\n",
    "        id = i['id']\n",
    "        subsets[subset][recipe_type][name].append(i['segment'])\n",
    "        subsets[subset][recipe_type][name][-1] = round(mean(subsets[subset][recipe_type][name][-1]))\n",
    "\n",
    "print(subsets['training']['101']['17v08qtr8UM'])\n",
    "#print(subsets['training']['101'].keys())\n",
    "#print(subsets['training'].keys())"
   ]
  },
  {
   "cell_type": "code",
   "execution_count": 5,
   "metadata": {},
   "outputs": [],
   "source": [
    "#define valuables & lists\n",
    "count = 0\n",
    "sec = 0\n",
    "sec_count = 0"
   ]
  },
  {
   "cell_type": "raw",
   "metadata": {},
   "source": [
    "# mkdir & save images\n",
    "#os.mkdir('./images/' + video_name)\n",
    "while True:\n",
    "    ret, frame = cap.read()\n",
    "    if ret == True:\n",
    "        count += 1\n",
    "        if count % round(video_fps) == 0:\n",
    "            sec += 1\n",
    "            sec_count = 0\n",
    "        if sec in segments['17v08qtr8UM'] and sec_count== 0:\n",
    "            print(sec)\n",
    "            sec_count += 1\n",
    "            cv2.imwrite('./images/' + video_name + '/' + str(count) +'.jpg', frame)\n",
    "    else:\n",
    "        break"
   ]
  },
  {
   "cell_type": "code",
   "execution_count": 13,
   "metadata": {},
   "outputs": [
    {
     "name": "stdout",
     "output_type": "stream",
     "text": [
      "96\n",
      "120\n",
      "135\n",
      "142\n",
      "174\n",
      "60\n",
      "78\n",
      "96\n",
      "110\n",
      "138\n",
      "160\n",
      "76\n",
      "108\n"
     ]
    },
    {
     "ename": "KeyboardInterrupt",
     "evalue": "",
     "output_type": "error",
     "traceback": [
      "\u001b[0;31m---------------------------------------------------------------------------\u001b[0m",
      "\u001b[0;31mKeyboardInterrupt\u001b[0m                         Traceback (most recent call last)",
      "\u001b[0;32m<ipython-input-13-28f61f938b5e>\u001b[0m in \u001b[0;36m<module>\u001b[0;34m()\u001b[0m\n\u001b[1;32m     16\u001b[0m             \u001b[0msegment_num\u001b[0m \u001b[0;34m=\u001b[0m \u001b[0;36m0\u001b[0m\u001b[0;34m\u001b[0m\u001b[0m\n\u001b[1;32m     17\u001b[0m             \u001b[0;32mwhile\u001b[0m \u001b[0;32mTrue\u001b[0m\u001b[0;34m:\u001b[0m\u001b[0;34m\u001b[0m\u001b[0m\n\u001b[0;32m---> 18\u001b[0;31m                 \u001b[0mret\u001b[0m\u001b[0;34m,\u001b[0m \u001b[0mframe\u001b[0m \u001b[0;34m=\u001b[0m \u001b[0mcap\u001b[0m\u001b[0;34m.\u001b[0m\u001b[0mread\u001b[0m\u001b[0;34m(\u001b[0m\u001b[0;34m)\u001b[0m\u001b[0;34m\u001b[0m\u001b[0m\n\u001b[0m\u001b[1;32m     19\u001b[0m                 \u001b[0;32mif\u001b[0m \u001b[0mret\u001b[0m \u001b[0;34m==\u001b[0m \u001b[0;32mTrue\u001b[0m\u001b[0;34m:\u001b[0m\u001b[0;34m\u001b[0m\u001b[0m\n\u001b[1;32m     20\u001b[0m                     \u001b[0mcount\u001b[0m \u001b[0;34m+=\u001b[0m \u001b[0;36m1\u001b[0m\u001b[0;34m\u001b[0m\u001b[0m\n",
      "\u001b[0;31mKeyboardInterrupt\u001b[0m: "
     ]
    }
   ],
   "source": [
    "for subset, value in subsets.items():\n",
    "    for recipe_type, value2 in value.items():\n",
    "        for name,segment in value2.items():            \n",
    "            img_path = os.path.join(\"../images\",subset,recipe_type,name)\n",
    "            video_path =  os.path.join(\"../raw_videos\",subset,recipe_type)\n",
    "            if not os.path.isdir(img_path):\n",
    "                os.makedirs(img_path)\n",
    "            video = name+'.mkv'\n",
    "            if not os.path.isfile(video_path +\"/\" + video):\n",
    "                video = name+'.mp4'\n",
    "            cap = cv2.VideoCapture(video_path +\"/\"+  video)  \n",
    "            video_frame = cap.get(cv2.CAP_PROP_FRAME_COUNT)\n",
    "            video_fps = cap.get(cv2.CAP_PROP_FPS)\n",
    "            \n",
    "            img_num = 0\n",
    "            segment_num = 0\n",
    "            while True:\n",
    "                ret, frame = cap.read()\n",
    "                if ret == True:\n",
    "                    count += 1\n",
    "                    if count % round(video_fps) == 0:\n",
    "                        sec += 1\n",
    "                        sec_count = 0\n",
    "                    \n",
    "                    if sec_count== 0:\n",
    "                        for i in range(len(segment)):\n",
    "                            if sec == segment[i]:\n",
    "                                if segment_num != i:\n",
    "                                    img_num = 0\n",
    "                                print(sec)\n",
    "                                \n",
    "                                segment_num = i\n",
    "                                cv2.imwrite(img_path + \"/\"+ str(segment_num).zfill(2) +\"-\" + str(img_num).zfill(3)+ '.jpg', frame)\n",
    "                                img_num += 1\n",
    "                    if img_num >= ImgPerSeg: \n",
    "                            sec_count += 1\n",
    "                        \n",
    "                    \n",
    "                        \n",
    "                else:\n",
    "                    count = 0\n",
    "                    sec = 0\n",
    "                    break\n",
    "            with open(\"logs/get_images_per_segment.log\", \"a\") as f:\n",
    "                print(subset,recipe_type,name,video_frame,round(video_fps),segment_num + 1,\"segments -->saved\",file=f)"
   ]
  },
  {
   "cell_type": "code",
   "execution_count": null,
   "metadata": {},
   "outputs": [],
   "source": [
    "#os. path. isfile('./17v08qtr8UM.mkv')\n",
    "\n",
    "for key, value in subsets.items():\n",
    "    for key2, value2 in value.items():\n",
    "        for key3,value3 in value2.items():\n",
    "            print(key3, value3)"
   ]
  }
 ],
 "metadata": {
  "kernelspec": {
   "display_name": "Python 3",
   "language": "python",
   "name": "python3"
  },
  "language_info": {
   "codemirror_mode": {
    "name": "ipython",
    "version": 3
   },
   "file_extension": ".py",
   "mimetype": "text/x-python",
   "name": "python",
   "nbconvert_exporter": "python",
   "pygments_lexer": "ipython3",
   "version": "3.6.5"
  }
 },
 "nbformat": 4,
 "nbformat_minor": 2
}
