{
 "cells": [
  {
   "cell_type": "code",
   "execution_count": null,
   "metadata": {},
   "outputs": [],
   "source": [
    "# -*- coding: utf-8 -*-\n",
    "\n",
    "#import modules\n",
    "import cv2\n",
    "import os\n",
    "import os.path\n",
    "import json\n",
    "from statistics import mean\n"
   ]
  },
  {
   "cell_type": "code",
   "execution_count": null,
   "metadata": {},
   "outputs": [],
   "source": [
    "# In[213]:\n",
    "\n",
    "\n",
    "#define valuables & lists\n",
    "ImgPerSeg = 1\n",
    "annotation = '../annotations/youcookii_annotations_trainval.json'\n",
    "video_names = []\n",
    "segments = {}\n",
    "subsets = {'training':{},'validation':{},'testing':{}}\n",
    "segments_num = {}"
   ]
  },
  {
   "cell_type": "code",
   "execution_count": null,
   "metadata": {},
   "outputs": [],
   "source": [
    "# In[214]:\n",
    "\n",
    "# read annotation file\n",
    "\n",
    "# load json file\n",
    "with open(annotation) as data_file:\n",
    "    data = json.load(data_file)\n",
    "\n",
    "# save names of videos\n",
    "for i in data['database'].keys():\n",
    "    video_names.append(i)\n",
    "\n",
    "# save dulation of annoted segments of each videos\n",
    "\n",
    "for name in video_names:\n",
    "    subset = data['database'][name]['subset']\n",
    "    recipe_type = data['database'][name][\"recipe_type\"]\n",
    "    annotations = data['database'][name]['annotations']\n",
    "    try:\n",
    "        subsets[subset][recipe_type][name] = []\n",
    "    except:\n",
    "        subsets[subset][recipe_type]= {}\n",
    "        subsets[subset][recipe_type][name] = []\n",
    "\n",
    "    for i in annotations:\n",
    "        id = i['id']\n",
    "        subsets[subset][recipe_type][name].append(i['segment'])\n",
    "        subsets[subset][recipe_type][name][-1] = round(mean(subsets[subset][recipe_type][name][-1]))"
   ]
  },
  {
   "cell_type": "code",
   "execution_count": null,
   "metadata": {},
   "outputs": [],
   "source": [
    "# In[215]:\n",
    "\n",
    "\n",
    "#define valuables & lists\n",
    "count = 0\n",
    "sec = 0\n",
    "sec_count = 0"
   ]
  },
  {
   "cell_type": "code",
   "execution_count": null,
   "metadata": {},
   "outputs": [],
   "source": [
    "# In[216]:\n",
    "\n",
    "\n",
    "for subset, value in subsets.items():\n",
    "    for recipe_type, value2 in value.items():\n",
    "        for name,segment in value2.items():\n",
    "            img_path = os.path.join(\"yolo-images\",subset,recipe_type,name)\n",
    "            video_path =  os.path.join(\"../raw_videos\",subset,recipe_type)\n",
    "            if not os.path.isdir(img_path):\n",
    "                os.makedirs(img_path)\n",
    "            video = name+'.mkv'\n",
    "            if not os.path.isfile(video_path +\"/\" + video):\n",
    "                video = name+'.mp4'\n",
    "            cap = cv2.VideoCapture(video_path +\"/\"+  video)\n",
    "            video_frame = cap.get(cv2.CAP_PROP_FRAME_COUNT)\n",
    "            video_fps = cap.get(cv2.CAP_PROP_FPS)\n",
    "\n",
    "            img_num = 0\n",
    "            segment_num = 0\n",
    "            while True:\n",
    "                ret, frame = cap.read()\n",
    "                if ret == True:\n",
    "                    count += 1\n",
    "                    if count % round(video_fps) == 0:\n",
    "                        sec += 1\n",
    "                        sec_count = 0\n",
    "\n",
    "                    if sec_count== 0:\n",
    "                        for i in range(len(segment)):\n",
    "                            if sec == segment[i]:\n",
    "                                if segment_num != i:\n",
    "                                    img_num = 0\n",
    "                                print(sec)\n",
    "\n",
    "                                segment_num = i\n",
    "                                if not os.path.isfile(img_path + \"/\" + str(segment_num).zfill(2) +\"-\" + str(img_num).zfill(3)+ '.jpg'):\n",
    "                                    cv2.imwrite(img_path + \"/\"+ str(segment_num).zfill(2) +\"-\" + str(img_num).zfill(3)+ '.jpg', frame)\n",
    "                                img_num += 1\n",
    "                    if img_num >= ImgPerSeg:\n",
    "                            sec_count += 1\n",
    "\n",
    "\n",
    "\n",
    "                else:\n",
    "                    count = 0\n",
    "                    sec = 0\n",
    "                    break\n",
    "\n",
    "            with open(\"logs/yolo-images.log\", \"a\") as f:\n",
    "                print(subset,recipe_type,name,video_frame,round(video_fps),segment_num + 1,\"segments -->saved\",file=f)"
   ]
  }
 ],
 "metadata": {
  "kernelspec": {
   "display_name": "Python 3",
   "language": "python",
   "name": "python3"
  },
  "language_info": {
   "codemirror_mode": {
    "name": "ipython",
    "version": 3
   },
   "file_extension": ".py",
   "mimetype": "text/x-python",
   "name": "python",
   "nbconvert_exporter": "python",
   "pygments_lexer": "ipython3",
   "version": "3.6.5"
  }
 },
 "nbformat": 4,
 "nbformat_minor": 2
}
